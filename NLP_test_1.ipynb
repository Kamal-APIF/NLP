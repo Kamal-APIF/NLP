{
  "nbformat": 4,
  "nbformat_minor": 0,
  "metadata": {
    "colab": {
      "name": "NLP_test_1.ipynb",
      "provenance": [],
      "toc_visible": true,
      "authorship_tag": "ABX9TyOJ5kerBaY9vVQJtj6srL72",
      "include_colab_link": true
    },
    "kernelspec": {
      "name": "python3",
      "display_name": "Python 3"
    }
  },
  "cells": [
    {
      "cell_type": "markdown",
      "metadata": {
        "id": "view-in-github",
        "colab_type": "text"
      },
      "source": [
        "<a href=\"https://colab.research.google.com/github/Kamal-APIF/NLP/blob/main/NLP_test_1.ipynb\" target=\"_parent\"><img src=\"https://colab.research.google.com/assets/colab-badge.svg\" alt=\"Open In Colab\"/></a>"
      ]
    },
    {
      "cell_type": "markdown",
      "metadata": {
        "id": "4OpOV-9mEqvQ"
      },
      "source": [
        "## Ingest data"
      ]
    },
    {
      "cell_type": "markdown",
      "metadata": {
        "id": "JDKnqiumFeBq"
      },
      "source": [
        "download the book\r\n"
      ]
    },
    {
      "cell_type": "code",
      "metadata": {
        "colab": {
          "base_uri": "https://localhost:8080/"
        },
        "id": "Q3qCoZTVDWeO",
        "outputId": "f2779a93-c862-4516-df02-e9326925e9e3"
      },
      "source": [
        "!wget https://raw.githubusercontent.com/Kamal-APIF/NLP/main/Jane_Eyre_an_Autobiography"
      ],
      "execution_count": 1,
      "outputs": [
        {
          "output_type": "stream",
          "text": [
            "--2021-03-04 21:05:01--  https://raw.githubusercontent.com/Kamal-APIF/NLP/main/Jane_Eyre_an_Autobiography\n",
            "Resolving raw.githubusercontent.com (raw.githubusercontent.com)... 185.199.108.133, 185.199.109.133, 185.199.110.133, ...\n",
            "Connecting to raw.githubusercontent.com (raw.githubusercontent.com)|185.199.108.133|:443... connected.\n",
            "HTTP request sent, awaiting response... 200 OK\n",
            "Length: 460936 (450K) [text/plain]\n",
            "Saving to: ‘Jane_Eyre_an_Autobiography’\n",
            "\n",
            "Jane_Eyre_an_Autobi 100%[===================>] 450.13K  --.-KB/s    in 0.04s   \n",
            "\n",
            "2021-03-04 21:05:01 (9.91 MB/s) - ‘Jane_Eyre_an_Autobiography’ saved [460936/460936]\n",
            "\n"
          ],
          "name": "stdout"
        }
      ]
    },
    {
      "cell_type": "code",
      "metadata": {
        "colab": {
          "base_uri": "https://localhost:8080/"
        },
        "id": "_sRNFvlcFvz6",
        "outputId": "57b0ab76-26ec-4320-d461-86720d94f5f9"
      },
      "source": [
        "!head Jane_Eyre_an_Autobiography "
      ],
      "execution_count": 2,
      "outputs": [
        {
          "output_type": "stream",
          "text": [
            "There was no possibility of taking a walk that day. We had been\n",
            "wandering, indeed, in the leafless shrubbery an hour in the morning;\n",
            "but since dinner (Mrs. Reed, when there was no company, dined early)\n",
            "the cold winter wind had brought with it clouds so sombre, and a rain\n",
            "so penetrating, that further outdoor exercise was now out of the\n",
            "question.\n",
            "\n",
            "I was glad of it: I never liked long walks, especially on chilly\n",
            "afternoons: dreadful to me was the coming home in the raw twilight,\n",
            "with nipped fingers and toes, and a heart saddened by the chidings of\n"
          ],
          "name": "stdout"
        }
      ]
    },
    {
      "cell_type": "code",
      "metadata": {
        "colab": {
          "base_uri": "https://localhost:8080/"
        },
        "id": "FoBfQyqRGn_c",
        "outputId": "9f8f64a1-85ef-44ed-a766-906b608f7fe3"
      },
      "source": [
        "!tail Jane_Eyre_an_Autobiography"
      ],
      "execution_count": 3,
      "outputs": [
        {
          "output_type": "stream",
          "text": [
            "Mr. Rochester’s extreme pallor had disappeared, and he looked once more\n",
            "firm and stern. He took the glass from my hand.\n",
            "\n",
            "“Here is to your health, ministrant spirit!” he said. He swallowed the\n",
            "contents and returned it to me. “What are they doing, Jane?”\n",
            "\n",
            "“Laughing and talking, sir.”\n",
            "\n",
            "“They don’t look grave and mysterious, as if they had heard something\n",
            "strange?”\n"
          ],
          "name": "stdout"
        }
      ]
    }
  ]
}